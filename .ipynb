{
 "cells": [
  {
   "cell_type": "markdown",
   "metadata": {},
   "source": [
    "### Health Tracker 2.0"
   ]
  },
  {
   "cell_type": "code",
   "execution_count": 1,
   "metadata": {},
   "outputs": [],
   "source": [
    "import pandas as pd\n",
    "import xmltodict\n",
    "import calendar\n",
    "from datetime import *\n",
    "\n",
    "from pydrive2.auth import GoogleAuth\n",
    "from pydrive2.drive import GoogleDrive\n",
    "\n",
    "import re\n",
    "import os.path\n",
    "import zipfile"
   ]
  },
  {
   "cell_type": "markdown",
   "metadata": {},
   "source": [
    "#### Download and extract data"
   ]
  },
  {
   "cell_type": "code",
   "execution_count": 2,
   "metadata": {},
   "outputs": [
    {
     "name": "stdout",
     "output_type": "stream",
     "text": [
      "Your browser has been opened to visit:\n",
      "\n",
      "    https://accounts.google.com/o/oauth2/auth?client_id=414641206861-31vsg5oe1qgiisil1vam0pk61mlkqjsl.apps.googleusercontent.com&redirect_uri=http%3A%2F%2Flocalhost%3A8080%2F&scope=https%3A%2F%2Fwww.googleapis.com%2Fauth%2Fdrive&access_type=offline&response_type=code\n",
      "\n",
      "Authentication successful.\n"
     ]
    }
   ],
   "source": [
    "# Authenticate into Google Drive\n",
    "\n",
    "gauth = GoogleAuth()\n",
    "gauth.LocalWebserverAuth()\n",
    "\n",
    "drive = GoogleDrive(gauth)"
   ]
  },
  {
   "cell_type": "code",
   "execution_count": 3,
   "metadata": {},
   "outputs": [
    {
     "name": "stdout",
     "output_type": "stream",
     "text": [
      "Matching Files\n",
      "    title: export.zip, id: 1kJRIku6u7H1dIfsiz8tMxFEqGDVVS-sk createDate: 2020-12-10T00:48:12.297Z\n",
      "    title: export.zip, id: 16nDgNcaKH525oTiOsOfxotaUOuOX4ZLW createDate: 2020-12-07T00:54:55.013Z\n"
     ]
    }
   ],
   "source": [
    "# Download the most recent Apple Health export file\n",
    "\n",
    "# use the folder id where health data is stored\n",
    "file_list = drive.ListFile({'q': \"'1TWmwU17n7cgaPUGX8xmiqM3VoCF6A04v' in parents and trashed=false\"}).GetList()\n",
    "\n",
    "selection_dt = datetime.strptime(\"2000-01-01T01:01:01.001Z\",\"%Y-%m-%dT%H:%M:%S.%fZ\")\n",
    "print(\"Matching Files\")\n",
    "for file1 in file_list: \n",
    "    if re.search(\"^export-*\\d*.zip\",file1['title']):\n",
    "        dt = datetime.strptime(file1['createdDate'],\"%Y-%m-%dT%H:%M:%S.%fZ\")\n",
    "        if dt > selection_dt:\n",
    "            selection_id = file1['id']\n",
    "            selection_dt = dt\n",
    "        print('    title: %s, id: %s createDate: %s' % (file1['title'], file1['id'], file1['createdDate']))"
   ]
  },
  {
   "cell_type": "code",
   "execution_count": 4,
   "metadata": {},
   "outputs": [],
   "source": [
    "if not os.path.exists('healthextract'):\n",
    "    os.mkdir('healthextract')"
   ]
  },
  {
   "cell_type": "code",
   "execution_count": 5,
   "metadata": {},
   "outputs": [
    {
     "name": "stdout",
     "output_type": "stream",
     "text": [
      "Downloading this file: export.zip, id: 1kJRIku6u7H1dIfsiz8tMxFEqGDVVS-sk createDate: 2020-12-10T00:48:12.297Z\n"
     ]
    }
   ],
   "source": [
    "for file1 in file_list:\n",
    "        if file1['id'] == selection_id:\n",
    "            print('Downloading this file: %s, id: %s createDate: %s' % (file1['title'], file1['id'], file1['createdDate']))\n",
    "            file1.GetContentFile(\"healthextract/export.zip\")"
   ]
  },
  {
   "cell_type": "code",
   "execution_count": 6,
   "metadata": {},
   "outputs": [],
   "source": [
    "# Unzip and parse data\n",
    "zip_ref = zipfile.ZipFile('healthextract/export.zip', 'r')\n",
    "zip_ref.extractall('healthextract')\n",
    "zip_ref.close()"
   ]
  },
  {
   "cell_type": "markdown",
   "metadata": {},
   "source": [
    "#### Create seaparate data files"
   ]
  },
  {
   "cell_type": "code",
   "execution_count": 7,
   "metadata": {},
   "outputs": [],
   "source": [
    "input_path = 'healthextract/apple_health_export/export.xml'\n",
    "with open(input_path, 'r') as xml_file:\n",
    "    input_data = xmltodict.parse(xml_file.read())\n",
    "\n",
    "records_list = input_data['HealthData']['Record']\n",
    "health_data = pd.DataFrame(records_list)"
   ]
  },
  {
   "cell_type": "code",
   "execution_count": 8,
   "metadata": {},
   "outputs": [
    {
     "data": {
      "text/plain": [
       "(580590, 11)"
      ]
     },
     "execution_count": 8,
     "metadata": {},
     "output_type": "execute_result"
    }
   ],
   "source": [
    "health_data.shape"
   ]
  },
  {
   "cell_type": "code",
   "execution_count": 9,
   "metadata": {},
   "outputs": [
    {
     "data": {
      "text/plain": [
       "array(['HKQuantityTypeIdentifierHeight',\n",
       "       'HKQuantityTypeIdentifierBodyMass',\n",
       "       'HKQuantityTypeIdentifierHeartRate',\n",
       "       'HKQuantityTypeIdentifierOxygenSaturation',\n",
       "       'HKQuantityTypeIdentifierStepCount',\n",
       "       'HKQuantityTypeIdentifierDistanceWalkingRunning',\n",
       "       'HKQuantityTypeIdentifierBasalEnergyBurned',\n",
       "       'HKQuantityTypeIdentifierActiveEnergyBurned',\n",
       "       'HKQuantityTypeIdentifierFlightsClimbed',\n",
       "       'HKQuantityTypeIdentifierAppleExerciseTime',\n",
       "       'HKQuantityTypeIdentifierRestingHeartRate',\n",
       "       'HKQuantityTypeIdentifierWalkingHeartRateAverage',\n",
       "       'HKQuantityTypeIdentifierEnvironmentalAudioExposure',\n",
       "       'HKQuantityTypeIdentifierHeadphoneAudioExposure',\n",
       "       'HKQuantityTypeIdentifierWalkingDoubleSupportPercentage',\n",
       "       'HKQuantityTypeIdentifierAppleStandTime',\n",
       "       'HKQuantityTypeIdentifierWalkingSpeed',\n",
       "       'HKQuantityTypeIdentifierWalkingStepLength',\n",
       "       'HKQuantityTypeIdentifierWalkingAsymmetryPercentage',\n",
       "       'HKQuantityTypeIdentifierStairAscentSpeed',\n",
       "       'HKCategoryTypeIdentifierSleepAnalysis',\n",
       "       'HKCategoryTypeIdentifierAppleStandHour',\n",
       "       'HKCategoryTypeIdentifierHandwashingEvent',\n",
       "       'HKQuantityTypeIdentifierHeartRateVariabilitySDNN'], dtype=object)"
      ]
     },
     "execution_count": 9,
     "metadata": {},
     "output_type": "execute_result"
    }
   ],
   "source": [
    "health_data['@type'].unique()"
   ]
  },
  {
   "cell_type": "markdown",
   "metadata": {},
   "source": [
    "#### Workout Data"
   ]
  },
  {
   "cell_type": "code",
   "execution_count": 10,
   "metadata": {},
   "outputs": [],
   "source": [
    "workout_list = input_data['HealthData']['Workout']\n",
    "health_data_workout = pd.DataFrame(workout_list)"
   ]
  },
  {
   "cell_type": "code",
   "execution_count": 11,
   "metadata": {},
   "outputs": [
    {
     "data": {
      "text/plain": [
       "Index(['@workoutActivityType', '@duration', '@durationUnit', '@totalDistance',\n",
       "       '@totalDistanceUnit', '@totalEnergyBurned', '@totalEnergyBurnedUnit',\n",
       "       '@sourceName', '@sourceVersion', '@creationDate', '@startDate',\n",
       "       '@endDate', 'MetadataEntry', '@device', 'WorkoutEvent'],\n",
       "      dtype='object')"
      ]
     },
     "execution_count": 11,
     "metadata": {},
     "output_type": "execute_result"
    }
   ],
   "source": [
    "health_data_workout.columns"
   ]
  },
  {
   "cell_type": "code",
   "execution_count": 12,
   "metadata": {},
   "outputs": [
    {
     "data": {
      "text/plain": [
       "array(['HKWorkoutActivityTypeHighIntensityIntervalTraining',\n",
       "       'HKWorkoutActivityTypeRunning', 'HKWorkoutActivityTypeOther',\n",
       "       'HKWorkoutActivityTypeHiking',\n",
       "       'HKWorkoutActivityTypeFunctionalStrengthTraining',\n",
       "       'HKWorkoutActivityTypeYoga', 'HKWorkoutActivityTypeCrossTraining',\n",
       "       'HKWorkoutActivityTypeWalking'], dtype=object)"
      ]
     },
     "execution_count": 12,
     "metadata": {},
     "output_type": "execute_result"
    }
   ],
   "source": [
    "health_data_workout['@workoutActivityType'].unique()"
   ]
  },
  {
   "cell_type": "code",
   "execution_count": 13,
   "metadata": {},
   "outputs": [
    {
     "data": {
      "text/plain": [
       "array(['Seven', 'Runkeeper', 'Pratik’s Apple\\xa0Watch', 'Nike Training'],\n",
       "      dtype=object)"
      ]
     },
     "execution_count": 13,
     "metadata": {},
     "output_type": "execute_result"
    }
   ],
   "source": [
    "health_data_workout['@sourceName'].unique()"
   ]
  },
  {
   "cell_type": "code",
   "execution_count": 14,
   "metadata": {},
   "outputs": [
    {
     "data": {
      "text/plain": [
       "array(['min'], dtype=object)"
      ]
     },
     "execution_count": 14,
     "metadata": {},
     "output_type": "execute_result"
    }
   ],
   "source": [
    "health_data_workout['@durationUnit'].unique()"
   ]
  },
  {
   "cell_type": "code",
   "execution_count": 15,
   "metadata": {},
   "outputs": [
    {
     "data": {
      "text/plain": [
       "(163, 15)"
      ]
     },
     "execution_count": 15,
     "metadata": {},
     "output_type": "execute_result"
    }
   ],
   "source": [
    "health_data_workout.shape"
   ]
  },
  {
   "cell_type": "code",
   "execution_count": 16,
   "metadata": {},
   "outputs": [],
   "source": [
    "health_data_workout.to_csv('./data/workoutData.csv', sep=',', encoding='utf-8', index=False)"
   ]
  },
  {
   "cell_type": "markdown",
   "metadata": {},
   "source": [
    "#### Activity Data"
   ]
  },
  {
   "cell_type": "code",
   "execution_count": 17,
   "metadata": {},
   "outputs": [],
   "source": [
    "activity_summary_list = input_data['HealthData']['ActivitySummary']\n",
    "health_data_activity = pd.DataFrame(activity_summary_list)"
   ]
  },
  {
   "cell_type": "code",
   "execution_count": 18,
   "metadata": {},
   "outputs": [
    {
     "data": {
      "text/plain": [
       "Index(['@dateComponents', '@activeEnergyBurned', '@activeEnergyBurnedGoal',\n",
       "       '@activeEnergyBurnedUnit', '@appleMoveTime', '@appleMoveTimeGoal',\n",
       "       '@appleExerciseTime', '@appleExerciseTimeGoal', '@appleStandHours',\n",
       "       '@appleStandHoursGoal'],\n",
       "      dtype='object')"
      ]
     },
     "execution_count": 18,
     "metadata": {},
     "output_type": "execute_result"
    }
   ],
   "source": [
    "health_data_activity.columns"
   ]
  },
  {
   "cell_type": "code",
   "execution_count": 19,
   "metadata": {},
   "outputs": [],
   "source": [
    "# format timestamp data\n",
    "\n",
    "# format = '%Y-%m-%d %H:%M:%S'\n",
    "# health_data_activity['@dateComponents'] = pd.to_datetime(health_data_activity['@dateComponents'],\n",
    "#                                      format=format)"
   ]
  },
  {
   "cell_type": "code",
   "execution_count": 20,
   "metadata": {},
   "outputs": [],
   "source": [
    "metrics = ['@activeEnergyBurned', '@activeEnergyBurnedGoal', '@appleExerciseTime',\n",
    "           '@appleExerciseTimeGoal', '@appleStandHours', '@appleStandHoursGoal']\n",
    "for metric in metrics:\n",
    "    health_data_activity.loc[:, metric] = pd.to_numeric(health_data_activity.loc[:, metric])\n",
    "    health_data_activity.loc[:, metric] = pd.to_numeric(health_data_activity.loc[:, metric])"
   ]
  },
  {
   "cell_type": "code",
   "execution_count": 21,
   "metadata": {},
   "outputs": [],
   "source": [
    "cols = ['@dateComponents', '@activeEnergyBurned', '@activeEnergyBurnedGoal', '@activeEnergyBurnedUnit',\n",
    "        '@appleExerciseTime', '@appleExerciseTimeGoal', '@appleStandHours', '@appleStandHoursGoal']\n",
    "health_data_activity = health_data_activity[cols]\n",
    "health_data_activity.to_csv('./data/activityData.csv', sep=',', encoding='utf-8', index=False)"
   ]
  },
  {
   "cell_type": "markdown",
   "metadata": {},
   "source": [
    "#### Record Data  \n",
    "1) Sleep Analysis  \n",
    "2) Oygen Saturation  \n",
    "3) Step Count  \n",
    "4) Distance Walking/Running  \n",
    "5) Basal Energy Burned  \n",
    "6) Active Enregy Burned  \n",
    "7) Flights Climbed"
   ]
  },
  {
   "cell_type": "code",
   "execution_count": 22,
   "metadata": {},
   "outputs": [],
   "source": [
    "data_record_columns = ['HKCategoryTypeIdentifierSleepAnalysis',\n",
    "                       'HKQuantityTypeIdentifierEnvironmentalAudioExposure',\n",
    "                       'HKQuantityTypeIdentifierHeadphoneAudioExposure',\n",
    "                       'HKQuantityTypeIdentifierHeartRate',\n",
    "                       'HKQuantityTypeIdentifierOxygenSaturation',\n",
    "                       'HKQuantityTypeIdentifierBasalEnergyBurned',\n",
    "                       'HKQuantityTypeIdentifierActiveEnergyBurned'\n",
    "                      ]\n",
    "\n",
    "health_data_record = health_data[health_data['@type'].isin(data_record_columns)]\n",
    "cols = ['@type', '@unit', '@creationDate', '@startDate', '@endDate', '@value']\n",
    "health_data_record = health_data_record[cols]"
   ]
  },
  {
   "cell_type": "code",
   "execution_count": 23,
   "metadata": {},
   "outputs": [],
   "source": [
    "health_data_record.to_csv('./data/recordData.csv', sep=',', encoding='utf-8', index=False)"
   ]
  },
  {
   "cell_type": "markdown",
   "metadata": {},
   "source": [
    "#### Walking Data"
   ]
  },
  {
   "cell_type": "code",
   "execution_count": 24,
   "metadata": {},
   "outputs": [],
   "source": [
    "walking_data_columns = ['HKQuantityTypeIdentifierStepCount',\n",
    "                        'HKQuantityTypeIdentifierDistanceWalkingRunning',\n",
    "                        'HKQuantityTypeIdentifierWalkingDoubleSupportPercentage',\n",
    "                        'HKQuantityTypeIdentifierWalkingSpeed',\n",
    "                        'HKQuantityTypeIdentifierWalkingStepLength',\n",
    "                        'HKQuantityTypeIdentifierWalkingAsymmetryPercentage',\n",
    "                        'HKQuantityTypeIdentifierFlightsClimbed'\n",
    "                       ]\n",
    "\n",
    "walking_data_record = health_data[health_data['@type'].isin(walking_data_columns)]"
   ]
  },
  {
   "cell_type": "code",
   "execution_count": 25,
   "metadata": {},
   "outputs": [
    {
     "name": "stdout",
     "output_type": "stream",
     "text": [
      "(66443, 11)\n",
      "(71374, 11)\n",
      "(3882, 11)\n",
      "(845, 11)\n",
      "(868, 11)\n",
      "(878, 11)\n",
      "(530, 11)\n"
     ]
    }
   ],
   "source": [
    "for ctype in walking_data_record['@type'].unique():\n",
    "    print(walking_data_record[walking_data_record['@type'] == ctype].shape)"
   ]
  },
  {
   "cell_type": "code",
   "execution_count": 26,
   "metadata": {},
   "outputs": [],
   "source": [
    "walking_data_record.to_csv('./data/walkingData.csv', sep=',', encoding='utf-8', index=False)"
   ]
  },
  {
   "cell_type": "code",
   "execution_count": 43,
   "metadata": {},
   "outputs": [
    {
     "data": {
      "text/plain": [
       "(623, 8)"
      ]
     },
     "execution_count": 43,
     "metadata": {},
     "output_type": "execute_result"
    }
   ],
   "source": [
    "health_data_activity.shape"
   ]
  },
  {
   "cell_type": "code",
   "execution_count": null,
   "metadata": {},
   "outputs": [],
   "source": []
  }
 ],
 "metadata": {
  "kernelspec": {
   "display_name": "Python 3",
   "language": "python",
   "name": "python3"
  },
  "language_info": {
   "codemirror_mode": {
    "name": "ipython",
    "version": 3
   },
   "file_extension": ".py",
   "mimetype": "text/x-python",
   "name": "python",
   "nbconvert_exporter": "python",
   "pygments_lexer": "ipython3",
   "version": "3.7.4"
  }
 },
 "nbformat": 4,
 "nbformat_minor": 2
}
